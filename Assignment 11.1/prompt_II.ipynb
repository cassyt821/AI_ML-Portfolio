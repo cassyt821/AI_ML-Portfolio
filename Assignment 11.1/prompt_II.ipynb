{
 "cells": [
  {
   "cell_type": "markdown",
   "metadata": {},
   "source": [
    "# What drives the price of a car?\n",
    "\n",
    "![](images/kurt.jpeg)"
   ]
  },
  {
   "cell_type": "markdown",
   "metadata": {},
   "source": [
    "**OVERVIEW**\n",
    "\n",
    "In this application, you will explore a dataset from Kaggle. The original dataset contained information on 3 million used cars. The provided dataset contains information on 426K cars to ensure speed of processing.  Your goal is to understand what factors make a car more or less expensive.  As a result of your analysis, you should provide clear recommendations to your client -- a used car dealership -- as to what consumers value in a used car."
   ]
  },
  {
   "cell_type": "markdown",
   "metadata": {},
   "source": [
    "### CRISP-DM Framework\n",
    "\n",
    "<center>\n",
    "    <img src = images/crisp.png width = 50%/>\n",
    "</center>\n",
    "\n",
    "\n",
    "To frame the task, throughout our practical applications, we will refer back to a standard process in industry for data projects called CRISP-DM.  This process provides a framework for working through a data problem.  Your first step in this application will be to read through a brief overview of CRISP-DM [here](https://mo-pcco.s3.us-east-1.amazonaws.com/BH-PCMLAI/module_11/readings_starter.zip).  After reading the overview, answer the questions below."
   ]
  },
  {
   "cell_type": "markdown",
   "metadata": {},
   "source": [
    "### Business Understanding\n",
    "\n",
    "From a business perspective, we are tasked with identifying key drivers for used car prices.  In the CRISP-DM overview, we are asked to convert this business framing to a data problem definition.  Using a few sentences, reframe the task as a data task with the appropriate technical vocabulary. "
   ]
  },
  {
   "cell_type": "markdown",
   "metadata": {},
   "source": [
    "Build and train a linear regression model, using an optimal number of linearly independent features and an optimal polynomial degree,\n",
    "that accurately predicts whether a customer will purchase a car. "
   ]
  },
  {
   "cell_type": "code",
   "execution_count": null,
   "metadata": {},
   "outputs": [],
   "source": []
  },
  {
   "cell_type": "code",
   "execution_count": null,
   "metadata": {},
   "outputs": [],
   "source": []
  },
  {
   "cell_type": "code",
   "execution_count": null,
   "metadata": {},
   "outputs": [],
   "source": []
  },
  {
   "cell_type": "markdown",
   "metadata": {},
   "source": [
    "### Data Understanding\n",
    "\n",
    "After considering the business understanding, we want to get familiar with our data.  Write down some steps that you would take to get to know the dataset and identify any quality issues within.  Take time to get to know the dataset and explore what information it contains and how this could be used to inform your business understanding."
   ]
  },
  {
   "cell_type": "markdown",
   "metadata": {},
   "source": [
    "Use the .info method of dataframes to get a high level summary of the number of records, the columns, their datatypes, and potential missing or null values that need to be addressed.\n",
    "\n",
    "For columns that have string or categorical data, (maybe using np.unique) get an impression of possible values for those fields.\n",
    "\n",
    "For columns with numeric data, get an impression of what constitutes a reasonable range of values for each column, where outliers might need to be anticipated, and if there are any obvious general relationships between the columns.\n",
    "\n",
    "Duplicates typically are something to look out for, but it's hard to tell at this stage, whether duplicates indicate data quality issues or constitute real data.\n",
    "\n"
   ]
  },
  {
   "cell_type": "code",
   "execution_count": 23,
   "metadata": {},
   "outputs": [],
   "source": [
    "import pandas as pd\n",
    "import numpy as np\n",
    "\n",
    "df_vehicles = pd.read_csv(\"data//vehicles.csv\")"
   ]
  },
  {
   "cell_type": "code",
   "execution_count": 24,
   "metadata": {},
   "outputs": [
    {
     "data": {
      "text/html": [
       "<div>\n",
       "<style scoped>\n",
       "    .dataframe tbody tr th:only-of-type {\n",
       "        vertical-align: middle;\n",
       "    }\n",
       "\n",
       "    .dataframe tbody tr th {\n",
       "        vertical-align: top;\n",
       "    }\n",
       "\n",
       "    .dataframe thead th {\n",
       "        text-align: right;\n",
       "    }\n",
       "</style>\n",
       "<table border=\"1\" class=\"dataframe\">\n",
       "  <thead>\n",
       "    <tr style=\"text-align: right;\">\n",
       "      <th></th>\n",
       "      <th>id</th>\n",
       "      <th>region</th>\n",
       "      <th>price</th>\n",
       "      <th>year</th>\n",
       "      <th>manufacturer</th>\n",
       "      <th>model</th>\n",
       "      <th>condition</th>\n",
       "      <th>cylinders</th>\n",
       "      <th>fuel</th>\n",
       "      <th>odometer</th>\n",
       "      <th>title_status</th>\n",
       "      <th>transmission</th>\n",
       "      <th>VIN</th>\n",
       "      <th>drive</th>\n",
       "      <th>size</th>\n",
       "      <th>type</th>\n",
       "      <th>paint_color</th>\n",
       "      <th>state</th>\n",
       "    </tr>\n",
       "  </thead>\n",
       "  <tbody>\n",
       "    <tr>\n",
       "      <th>0</th>\n",
       "      <td>7222695916</td>\n",
       "      <td>prescott</td>\n",
       "      <td>6000</td>\n",
       "      <td>NaN</td>\n",
       "      <td>NaN</td>\n",
       "      <td>NaN</td>\n",
       "      <td>NaN</td>\n",
       "      <td>NaN</td>\n",
       "      <td>NaN</td>\n",
       "      <td>NaN</td>\n",
       "      <td>NaN</td>\n",
       "      <td>NaN</td>\n",
       "      <td>NaN</td>\n",
       "      <td>NaN</td>\n",
       "      <td>NaN</td>\n",
       "      <td>NaN</td>\n",
       "      <td>NaN</td>\n",
       "      <td>az</td>\n",
       "    </tr>\n",
       "    <tr>\n",
       "      <th>1</th>\n",
       "      <td>7218891961</td>\n",
       "      <td>fayetteville</td>\n",
       "      <td>11900</td>\n",
       "      <td>NaN</td>\n",
       "      <td>NaN</td>\n",
       "      <td>NaN</td>\n",
       "      <td>NaN</td>\n",
       "      <td>NaN</td>\n",
       "      <td>NaN</td>\n",
       "      <td>NaN</td>\n",
       "      <td>NaN</td>\n",
       "      <td>NaN</td>\n",
       "      <td>NaN</td>\n",
       "      <td>NaN</td>\n",
       "      <td>NaN</td>\n",
       "      <td>NaN</td>\n",
       "      <td>NaN</td>\n",
       "      <td>ar</td>\n",
       "    </tr>\n",
       "    <tr>\n",
       "      <th>2</th>\n",
       "      <td>7221797935</td>\n",
       "      <td>florida keys</td>\n",
       "      <td>21000</td>\n",
       "      <td>NaN</td>\n",
       "      <td>NaN</td>\n",
       "      <td>NaN</td>\n",
       "      <td>NaN</td>\n",
       "      <td>NaN</td>\n",
       "      <td>NaN</td>\n",
       "      <td>NaN</td>\n",
       "      <td>NaN</td>\n",
       "      <td>NaN</td>\n",
       "      <td>NaN</td>\n",
       "      <td>NaN</td>\n",
       "      <td>NaN</td>\n",
       "      <td>NaN</td>\n",
       "      <td>NaN</td>\n",
       "      <td>fl</td>\n",
       "    </tr>\n",
       "    <tr>\n",
       "      <th>3</th>\n",
       "      <td>7222270760</td>\n",
       "      <td>worcester / central MA</td>\n",
       "      <td>1500</td>\n",
       "      <td>NaN</td>\n",
       "      <td>NaN</td>\n",
       "      <td>NaN</td>\n",
       "      <td>NaN</td>\n",
       "      <td>NaN</td>\n",
       "      <td>NaN</td>\n",
       "      <td>NaN</td>\n",
       "      <td>NaN</td>\n",
       "      <td>NaN</td>\n",
       "      <td>NaN</td>\n",
       "      <td>NaN</td>\n",
       "      <td>NaN</td>\n",
       "      <td>NaN</td>\n",
       "      <td>NaN</td>\n",
       "      <td>ma</td>\n",
       "    </tr>\n",
       "    <tr>\n",
       "      <th>4</th>\n",
       "      <td>7210384030</td>\n",
       "      <td>greensboro</td>\n",
       "      <td>4900</td>\n",
       "      <td>NaN</td>\n",
       "      <td>NaN</td>\n",
       "      <td>NaN</td>\n",
       "      <td>NaN</td>\n",
       "      <td>NaN</td>\n",
       "      <td>NaN</td>\n",
       "      <td>NaN</td>\n",
       "      <td>NaN</td>\n",
       "      <td>NaN</td>\n",
       "      <td>NaN</td>\n",
       "      <td>NaN</td>\n",
       "      <td>NaN</td>\n",
       "      <td>NaN</td>\n",
       "      <td>NaN</td>\n",
       "      <td>nc</td>\n",
       "    </tr>\n",
       "  </tbody>\n",
       "</table>\n",
       "</div>"
      ],
      "text/plain": [
       "           id                  region  price  year manufacturer model  \\\n",
       "0  7222695916                prescott   6000   NaN          NaN   NaN   \n",
       "1  7218891961            fayetteville  11900   NaN          NaN   NaN   \n",
       "2  7221797935            florida keys  21000   NaN          NaN   NaN   \n",
       "3  7222270760  worcester / central MA   1500   NaN          NaN   NaN   \n",
       "4  7210384030              greensboro   4900   NaN          NaN   NaN   \n",
       "\n",
       "  condition cylinders fuel  odometer title_status transmission  VIN drive  \\\n",
       "0       NaN       NaN  NaN       NaN          NaN          NaN  NaN   NaN   \n",
       "1       NaN       NaN  NaN       NaN          NaN          NaN  NaN   NaN   \n",
       "2       NaN       NaN  NaN       NaN          NaN          NaN  NaN   NaN   \n",
       "3       NaN       NaN  NaN       NaN          NaN          NaN  NaN   NaN   \n",
       "4       NaN       NaN  NaN       NaN          NaN          NaN  NaN   NaN   \n",
       "\n",
       "  size type paint_color state  \n",
       "0  NaN  NaN         NaN    az  \n",
       "1  NaN  NaN         NaN    ar  \n",
       "2  NaN  NaN         NaN    fl  \n",
       "3  NaN  NaN         NaN    ma  \n",
       "4  NaN  NaN         NaN    nc  "
      ]
     },
     "execution_count": 24,
     "metadata": {},
     "output_type": "execute_result"
    }
   ],
   "source": [
    "df_vehicles.head()"
   ]
  },
  {
   "cell_type": "code",
   "execution_count": 27,
   "metadata": {},
   "outputs": [
    {
     "name": "stdout",
     "output_type": "stream",
     "text": [
      "<class 'pandas.core.frame.DataFrame'>\n",
      "RangeIndex: 426880 entries, 0 to 426879\n",
      "Data columns (total 18 columns):\n",
      " #   Column        Non-Null Count   Dtype  \n",
      "---  ------        --------------   -----  \n",
      " 0   id            426880 non-null  int64  \n",
      " 1   region        426880 non-null  object \n",
      " 2   price         426880 non-null  int64  \n",
      " 3   year          425675 non-null  float64\n",
      " 4   manufacturer  409234 non-null  object \n",
      " 5   model         421603 non-null  object \n",
      " 6   condition     252776 non-null  object \n",
      " 7   cylinders     249202 non-null  object \n",
      " 8   fuel          423867 non-null  object \n",
      " 9   odometer      422480 non-null  float64\n",
      " 10  title_status  418638 non-null  object \n",
      " 11  transmission  424324 non-null  object \n",
      " 12  VIN           265838 non-null  object \n",
      " 13  drive         296313 non-null  object \n",
      " 14  size          120519 non-null  object \n",
      " 15  type          334022 non-null  object \n",
      " 16  paint_color   296677 non-null  object \n",
      " 17  state         426880 non-null  object \n",
      "dtypes: float64(2), int64(2), object(14)\n",
      "memory usage: 58.6+ MB\n"
     ]
    },
    {
     "data": {
      "text/html": [
       "<div>\n",
       "<style scoped>\n",
       "    .dataframe tbody tr th:only-of-type {\n",
       "        vertical-align: middle;\n",
       "    }\n",
       "\n",
       "    .dataframe tbody tr th {\n",
       "        vertical-align: top;\n",
       "    }\n",
       "\n",
       "    .dataframe thead th {\n",
       "        text-align: right;\n",
       "    }\n",
       "</style>\n",
       "<table border=\"1\" class=\"dataframe\">\n",
       "  <thead>\n",
       "    <tr style=\"text-align: right;\">\n",
       "      <th></th>\n",
       "      <th>id</th>\n",
       "      <th>price</th>\n",
       "      <th>year</th>\n",
       "      <th>odometer</th>\n",
       "    </tr>\n",
       "  </thead>\n",
       "  <tbody>\n",
       "    <tr>\n",
       "      <th>count</th>\n",
       "      <td>4.268800e+05</td>\n",
       "      <td>4.268800e+05</td>\n",
       "      <td>425675.000000</td>\n",
       "      <td>4.224800e+05</td>\n",
       "    </tr>\n",
       "    <tr>\n",
       "      <th>mean</th>\n",
       "      <td>7.311487e+09</td>\n",
       "      <td>7.519903e+04</td>\n",
       "      <td>2011.235191</td>\n",
       "      <td>9.804333e+04</td>\n",
       "    </tr>\n",
       "    <tr>\n",
       "      <th>std</th>\n",
       "      <td>4.473170e+06</td>\n",
       "      <td>1.218228e+07</td>\n",
       "      <td>9.452120</td>\n",
       "      <td>2.138815e+05</td>\n",
       "    </tr>\n",
       "    <tr>\n",
       "      <th>min</th>\n",
       "      <td>7.207408e+09</td>\n",
       "      <td>0.000000e+00</td>\n",
       "      <td>1900.000000</td>\n",
       "      <td>0.000000e+00</td>\n",
       "    </tr>\n",
       "    <tr>\n",
       "      <th>25%</th>\n",
       "      <td>7.308143e+09</td>\n",
       "      <td>5.900000e+03</td>\n",
       "      <td>2008.000000</td>\n",
       "      <td>3.770400e+04</td>\n",
       "    </tr>\n",
       "    <tr>\n",
       "      <th>50%</th>\n",
       "      <td>7.312621e+09</td>\n",
       "      <td>1.395000e+04</td>\n",
       "      <td>2013.000000</td>\n",
       "      <td>8.554800e+04</td>\n",
       "    </tr>\n",
       "    <tr>\n",
       "      <th>75%</th>\n",
       "      <td>7.315254e+09</td>\n",
       "      <td>2.648575e+04</td>\n",
       "      <td>2017.000000</td>\n",
       "      <td>1.335425e+05</td>\n",
       "    </tr>\n",
       "    <tr>\n",
       "      <th>max</th>\n",
       "      <td>7.317101e+09</td>\n",
       "      <td>3.736929e+09</td>\n",
       "      <td>2022.000000</td>\n",
       "      <td>1.000000e+07</td>\n",
       "    </tr>\n",
       "  </tbody>\n",
       "</table>\n",
       "</div>"
      ],
      "text/plain": [
       "                 id         price           year      odometer\n",
       "count  4.268800e+05  4.268800e+05  425675.000000  4.224800e+05\n",
       "mean   7.311487e+09  7.519903e+04    2011.235191  9.804333e+04\n",
       "std    4.473170e+06  1.218228e+07       9.452120  2.138815e+05\n",
       "min    7.207408e+09  0.000000e+00    1900.000000  0.000000e+00\n",
       "25%    7.308143e+09  5.900000e+03    2008.000000  3.770400e+04\n",
       "50%    7.312621e+09  1.395000e+04    2013.000000  8.554800e+04\n",
       "75%    7.315254e+09  2.648575e+04    2017.000000  1.335425e+05\n",
       "max    7.317101e+09  3.736929e+09    2022.000000  1.000000e+07"
      ]
     },
     "execution_count": 27,
     "metadata": {},
     "output_type": "execute_result"
    }
   ],
   "source": [
    "df_vehicles.info()\n",
    "#Lots of null values in condition, size, type, and paint_color, which I would expect to be salient features that impact the value of a car.\n",
    "#Size is the limiting column, with 120,000 rows out of 426,000, and that's still a sizable dataset. Need to see how many rows have\n",
    "#all hypothesized salient features.\n",
    "\n",
    "df_vehicles.describe()\n",
    "\n",
    "#At least one used car at sale price of over $1,000,000,000. Unknown whether this is a data error or if it's a special situation where a \n",
    "#special car was sold. In either case, it might not be helpful for the general prediction of used car values.\n",
    "\n",
    "#At least one used car has a registered model year of 1900. This is unlikely. Need to identify other likely date outliers and drop them."
   ]
  },
  {
   "cell_type": "code",
   "execution_count": 29,
   "metadata": {},
   "outputs": [
    {
     "name": "stdout",
     "output_type": "stream",
     "text": [
      "{'excellent', 'fair', 'like new', 'salvage', 'new', 'good', nan}\n",
      "{'12 cylinders', '5 cylinders', '4 cylinders', '10 cylinders', '8 cylinders', 'other', '6 cylinders', '3 cylinders', nan}\n",
      "{'diesel', 'electric', 'hybrid', 'other', 'gas', nan}\n",
      "{'lien', 'clean', 'parts only', 'missing', 'salvage', 'rebuilt', nan}\n",
      "{'automatic', 'other', 'manual', nan}\n",
      "{'fwd', '4wd', 'rwd', nan}\n",
      "{'sub-compact', 'mid-size', 'compact', 'full-size', nan}\n",
      "{'SUV', 'mini-van', 'offroad', 'van', 'coupe', 'wagon', 'pickup', 'other', 'truck', 'bus', 'hatchback', 'convertible', 'sedan', nan}\n",
      "{'grey', 'yellow', 'purple', 'brown', 'black', 'white', 'green', 'red', 'blue', 'custom', 'orange', 'silver', nan}\n",
      "{'dodge', 'cadillac', 'tesla', 'mercedes-benz', 'mercury', 'mitsubishi', 'chrysler', 'honda', 'audi', 'infiniti', 'fiat', 'datsun', 'toyota', 'ferrari', 'jaguar', 'land rover', 'lexus', 'acura', 'bmw', 'rover', 'mazda', 'morgan', 'kia', 'buick', 'chevrolet', 'saturn', 'nissan', 'lincoln', 'porsche', 'ford', 'mini', 'volkswagen', 'pontiac', 'aston-martin', 'gmc', 'volvo', 'jeep', 'hyundai', 'harley-davidson', 'alfa-romeo', 'subaru', 'ram', nan}\n"
     ]
    }
   ],
   "source": [
    "print(set(df_vehicles[\"condition\"]))\n",
    "print(set(df_vehicles[\"cylinders\"]))\n",
    "print(set(df_vehicles[\"fuel\"]))\n",
    "print(set(df_vehicles[\"title_status\"]))\n",
    "print(set(df_vehicles[\"transmission\"]))\n",
    "print(set(df_vehicles[\"drive\"]))\n",
    "print(set(df_vehicles[\"size\"]))\n",
    "print(set(df_vehicles[\"type\"]))\n",
    "print(set(df_vehicles[\"paint_color\"]))\n",
    "#print(set(df_vehicles[\"manufacturer\"]))\n",
    "#print(set(df_vehicles[\"model\"])) #There are too many values here for it to be practical from a modelling standpoint\n",
    "#print(set(df_vehicles[\"state\"]))\n",
    "#print(set(df_vehicles[\"region\"])) #There are too many values here for it to be practical from a modelling standpoint"
   ]
  },
  {
   "cell_type": "markdown",
   "metadata": {},
   "source": [
    "### Data Preparation\n",
    "\n",
    "After our initial exploration and fine-tuning of the business understanding, it is time to construct our final dataset prior to modeling.  Here, we want to make sure to handle any integrity issues and cleaning, the engineering of new features, any transformations that we believe should happen (scaling, logarithms, normalization, etc.), and general preparation for modeling with `sklearn`. "
   ]
  },
  {
   "cell_type": "code",
   "execution_count": 604,
   "metadata": {},
   "outputs": [],
   "source": [
    "from sklearn.linear_model import LinearRegression\n",
    "from sklearn.pipeline import Pipeline\n",
    "from sklearn.preprocessing import PolynomialFeatures, OneHotEncoder, OrdinalEncoder, StandardScaler\n",
    "from sklearn.metrics import mean_squared_error \n",
    "from sklearn.model_selection import train_test_split, GridSearchCV\n",
    "from sklearn.compose import make_column_transformer, make_column_selector\n",
    "from sklearn.decomposition import PCA"
   ]
  },
  {
   "cell_type": "markdown",
   "metadata": {},
   "source": [
    "Steps to take:\n",
    "- Drop VIN and id columns. These are identifier columns and are irrelevant to price predictions.\n",
    "- Drop model, Region and state columns. There are so many possible unique values for these fields that it will make modelling intractable.\n",
    "- Review potential outliers in Price. The 75% quartile tops out at $26,400. Treat all cars exceeding $100,000 in price value as outliers and drop them.\n",
    "- Review potential outliers in Year. The 25% quartile bottoms out at 2008. Treat all records with year less than 1990 as outliers. I can't tell if the model year 2022 is an outlier or not, but at the time of programming in 2025, this is reasonable, so I'm retaining this.\n",
    "- Review potential outliers in Odometer (the number of miles on a car). The maximum value is 10,000,000, which is highly unlikely. Treat odometer values exceeding 200,000 as outliers.\n",
    "- For datasets using year, convert year from integer to string. In this context, it's a categorical dimension, not a numeric dimension.\n",
    "- Datasets using odometer will require normalization. The price field for all datasets will require normalization.\n",
    "- Drop rows where at least 1 of the features is NaN. See what the size of the remaining dataset is. If it's less than 50,000, I may need to revisit my transformation approach.\n",
    "- Some columns are suitable as ordinal features: condition, cylinders, and size. Complete these mappings.\n",
    "- For datasets focused on categorical features, create dummy columns for one-hot encoding.\n",
    "- Set aside 20% of the resulting dataset as the test_dataset. Use the other 80% of the dataset for training."
   ]
  },
  {
   "cell_type": "code",
   "execution_count": 483,
   "metadata": {},
   "outputs": [
    {
     "name": "stdout",
     "output_type": "stream",
     "text": [
      "<class 'pandas.core.frame.DataFrame'>\n",
      "Index: 72486 entries, 31 to 426836\n",
      "Data columns (total 12 columns):\n",
      " #   Column           Non-Null Count  Dtype  \n",
      "---  ------           --------------  -----  \n",
      " 0   year             72486 non-null  object \n",
      " 1   condition        72486 non-null  object \n",
      " 2   cylinders        72486 non-null  object \n",
      " 3   fuel             72486 non-null  object \n",
      " 4   title_status     72486 non-null  object \n",
      " 5   transmission     72486 non-null  object \n",
      " 6   drive            72486 non-null  object \n",
      " 7   size             72486 non-null  object \n",
      " 8   type             72486 non-null  object \n",
      " 9   paint_color      72486 non-null  object \n",
      " 10  scaled_odometer  72486 non-null  float64\n",
      " 11  scaled_price     72486 non-null  float64\n",
      "dtypes: float64(2), object(10)\n",
      "memory usage: 7.2+ MB\n"
     ]
    }
   ],
   "source": [
    "#Drop columns\n",
    "df_working = df_vehicles.copy().drop(columns=[\"VIN\", \"id\", \"model\", \"state\", \"region\", \"manufacturer\"])\n",
    "#Replace outliers with nans.\n",
    "df_working.loc[df_working[\"price\"] > 100000, \"price\"] = np.nan\n",
    "df_working.loc[df_working[\"year\"] < 1990, \"year\"] = np.nan\n",
    "df_working.loc[df_working[\"odometer\"] > 200000, \"odometer\"] = np.nan\n",
    "\n",
    "df_working.dropna(inplace=True)\n",
    "#Convert year to string\n",
    "df_working[\"year\"] = df_working[\"year\"].copy().astype(str)\n",
    "\n",
    "#Scale numeric columns\n",
    "mean_odometer = df_working['odometer'].mean()\n",
    "std_odometer = df_working['odometer'].std()\n",
    "mean_price = df_working['price'].mean()\n",
    "std_price = df_working['price'].std()\n",
    "\n",
    "df_working['scaled_odometer'] = (df_working['odometer'] - mean_odometer)/std_odometer\n",
    "df_working['scaled_price'] = (df_working['price'] - mean_price)/std_price\n",
    "df_working = df_working.drop(columns=['odometer', 'price'])\n",
    "df_working.info()"
   ]
  },
  {
   "cell_type": "code",
   "execution_count": null,
   "metadata": {},
   "outputs": [],
   "source": []
  },
  {
   "cell_type": "markdown",
   "metadata": {},
   "source": [
    "### Modeling\n",
    "\n",
    "With your (almost?) final dataset in hand, it is now time to build some models.  Here, you should build a number of different regression models with the price as the target.  In building your models, you should explore different parameters and be sure to cross-validate your findings."
   ]
  },
  {
   "cell_type": "markdown",
   "metadata": {},
   "source": [
    "There are a few ways I want to use to approach this problem:\n",
    "- Linear Regression for hypothesized features of interest\n",
    "- Polynomial fitting for certain features (eg. odometer)\n",
    "- Sequential Feature Selection: "
   ]
  },
  {
   "cell_type": "code",
   "execution_count": 511,
   "metadata": {},
   "outputs": [],
   "source": [
    "#Split dataset into training and test sets\n",
    "features_train, features_test, price_train, price_test = train_test_split(df_working.drop(columns=[\"scaled_price\"]),\n",
    "                                                                                         df_working[[\"scaled_price\"]],\n",
    "                                                                         train_size=0.8)"
   ]
  },
  {
   "cell_type": "code",
   "execution_count": null,
   "metadata": {},
   "outputs": [],
   "source": []
  },
  {
   "cell_type": "code",
   "execution_count": 515,
   "metadata": {},
   "outputs": [],
   "source": [
    "#Create Column Transformer assuming all kept columns are used to train the model\n",
    "columns_category = ['fuel', 'title_status', 'cylinders', 'transmission', 'drive', 'type', 'paint_color', 'year']\n",
    "columns_ordinal = ['condition', 'size']\n",
    "category_condition = ['salvage', 'fair', 'good', 'excellent', 'like new', 'new']\n",
    "category_size = ['sub-compact', 'compact', 'mid-size', 'full-size']\n",
    "ordinal_ohe_transformer = make_column_transformer(\n",
    "    (OneHotEncoder(handle_unknown='ignore', sparse_output=False), columns_category),\n",
    "    (OrdinalEncoder(categories=[category_condition, category_size]).set_output(transform='pandas'), columns_ordinal),\n",
    "    remainder='passthrough'\n",
    ")\n",
    "\n",
    "#What happens if I just build a model on all of the retained features?\n",
    "pipeline_all = Pipeline([('transform', ordinal_ohe_transformer),\n",
    "                     ('regression', LinearRegression())\n",
    "                    ])\n",
    "\n",
    "pipeline_all.fit(features_train, price_train)\n",
    "\n",
    "#What is the MSE for such a model?\n",
    "pipeline_train_preds = pipeline_all.predict(features_train)\n",
    "pipeline_test_preds = pipeline_all.predict(features_test)\n",
    "print(\"Training Set: \", str(mean_squared_error(pipeline_train_preds, price_train)))\n",
    "print(\"Test Set: \", str(mean_squared_error(pipeline_test_preds, price_test)))"
   ]
  },
  {
   "cell_type": "markdown",
   "metadata": {},
   "source": [
    "While a consumer can use any and all of the categories included in pipeline_all when shopping for a car, attempting to build a price prediction model out of them results in an overfitted model that performs poorly when applied to test data. It makes more sense to focus in on a smaller number of columns with strong predictive value, so I will apply Principal Component Analysis to reduce the dimensionality of the input dataset to 2-4 features."
   ]
  },
  {
   "cell_type": "code",
   "execution_count": 645,
   "metadata": {},
   "outputs": [
    {
     "name": "stdout",
     "output_type": "stream",
     "text": [
      "Training Set:  0.6337710329720552\n",
      "Test Set:  0.6639387075561177\n",
      "remainder__scaled_odometer    1.122349\n",
      "ordinalencoder__size          0.861451\n",
      "dtype: float64\n",
      "   remainder__scaled_odometer  ordinalencoder__size\n",
      "0                    0.876080              0.216262\n",
      "1                   -0.246269              0.645189\n"
     ]
    }
   ],
   "source": [
    "#Incorporate PCA into pipeline\n",
    "pipeline_pca = Pipeline([('transform', ordinal_ohe_transformer),\n",
    "                         ('pca', PCA(n_components=2)),\n",
    "                         ('regression', LinearRegression())\n",
    "                        ])\n",
    "#Create version of PCA pipeline with GridSearchCV to try out different component parameters\n",
    "params = {'pca__n_components': range(2, len(features_train.columns),1)}\n",
    "pipe_pca_grid = GridSearchCV(pipeline_pca, params)\n",
    "pipeline_pca.fit(features_train, price_train)\n",
    "\n",
    "#Predict price for training set and test set using PCA pipeline with default n_components = 2\n",
    "pipeline_pca_train_preds = pipeline_pca.predict(features_train)\n",
    "pipeline_pca_test_preds = pipeline_pca.predict(features_test)\n",
    "\n",
    "#Calculate MSE for this model\n",
    "print(\"Training Set: \", str(mean_squared_error(pipeline_pca_train_preds, price_train)))\n",
    "print(\"Test Set: \", str(mean_squared_error(pipeline_pca_test_preds, price_test)))\n",
    "\n",
    "#Determine most influential features identified during PCA\n",
    "weights = pipeline_pca.named_steps['pca'].components_\n",
    "features = pipeline_pca.named_steps['transform'].get_feature_names_out()\n",
    "\n",
    "df_influence = pd.DataFrame(weights, columns=features)\n",
    "\n",
    "print(df_influence.abs().sum(axis=0).nlargest(2))\n",
    "print(df_influence[list(df_influence.abs().sum(axis=0).nlargest(2).index)])"
   ]
  },
  {
   "cell_type": "markdown",
   "metadata": {},
   "source": [
    "### Evaluation\n",
    "\n",
    "With some modeling accomplished, we aim to reflect on what we identify as a high-quality model and what we are able to learn from this.  We should review our business objective and explore how well we can provide meaningful insight into drivers of used car prices.  Your goal now is to distill your findings and determine whether the earlier phases need revisitation and adjustment or if you have information of value to bring back to your client."
   ]
  },
  {
   "cell_type": "markdown",
   "metadata": {},
   "source": [
    "I applied Principal Component Analysis to the dataset to determine what 2 features are the best predictors of price. The error of the test model appears to be pretty good, but the most influential factors are somewhat counterintuitive. The top 2 influences in this model are Scaled Odometer readings and the size of the car. \n",
    "\n",
    "With regards to size, this suggests that a larger size drives a higher price, which is believable. On the other hand, the model also suggests that price is positively correlated with odometer reading for smaller cars, and negatively correlated for larger cars. This is not particularly helpful and suggests that there may be some other drivers that need to be explored. Another interpretation of this is that the relationship between odometer reading and price is non-linear, in which case a polynomial fit might be appropriate. "
   ]
  },
  {
   "cell_type": "code",
   "execution_count": 649,
   "metadata": {},
   "outputs": [
    {
     "name": "stdout",
     "output_type": "stream",
     "text": [
      "{'pca__n_components': 10}\n",
      "Training Set:  0.5508898062280634\n",
      "Test Set:  0.5797118216095737\n",
      "ordinalencoder__size                    2.287172\n",
      "onehotencoder__paint_color_white        2.017616\n",
      "onehotencoder__type_sedan               1.999317\n",
      "ordinalencoder__condition               1.971899\n",
      "onehotencoder__drive_4wd                1.948907\n",
      "onehotencoder__type_SUV                 1.819178\n",
      "remainder__scaled_odometer              1.807344\n",
      "onehotencoder__cylinders_6 cylinders    1.787210\n",
      "onehotencoder__drive_fwd                1.709682\n",
      "onehotencoder__drive_rwd                1.694046\n",
      "dtype: float64\n",
      "   ordinalencoder__size  onehotencoder__paint_color_white  \\\n",
      "0              0.216262                          0.002884   \n",
      "1              0.645189                          0.101838   \n",
      "2              0.025954                         -0.101364   \n",
      "3             -0.489229                         -0.114051   \n",
      "4              0.288405                         -0.154114   \n",
      "5             -0.362127                          0.223090   \n",
      "6              0.030401                          0.725345   \n",
      "7              0.142729                         -0.028303   \n",
      "8             -0.007383                          0.229548   \n",
      "9             -0.079492                          0.337079   \n",
      "\n",
      "   onehotencoder__type_sedan  ordinalencoder__condition  \\\n",
      "0                  -0.050964                  -0.365202   \n",
      "1                  -0.219521                   0.142238   \n",
      "2                   0.026836                   0.859361   \n",
      "3                  -0.353696                  -0.161369   \n",
      "4                   0.120201                  -0.227351   \n",
      "5                  -0.105923                   0.156714   \n",
      "6                  -0.187132                  -0.004440   \n",
      "7                  -0.342047                   0.019822   \n",
      "8                  -0.027125                   0.001967   \n",
      "9                   0.565869                  -0.033436   \n",
      "\n",
      "   onehotencoder__drive_4wd  onehotencoder__type_SUV  \\\n",
      "0                  0.063880                 0.031952   \n",
      "1                  0.266229                 0.068204   \n",
      "2                  0.122274                 0.157661   \n",
      "3                  0.509060                 0.382559   \n",
      "4                 -0.085798                 0.213171   \n",
      "5                 -0.292175                -0.195245   \n",
      "6                  0.025521                 0.195112   \n",
      "7                 -0.360656                 0.518353   \n",
      "8                 -0.026055                 0.018629   \n",
      "9                  0.197260                 0.038291   \n",
      "\n",
      "   remainder__scaled_odometer  onehotencoder__cylinders_6 cylinders  \\\n",
      "0                    0.876080                              0.041855   \n",
      "1                   -0.246269                              0.072281   \n",
      "2                    0.352884                              0.126077   \n",
      "3                   -0.043525                              0.132552   \n",
      "4                   -0.143907                              0.622207   \n",
      "5                    0.077547                              0.414218   \n",
      "6                    0.019052                              0.034639   \n",
      "7                    0.011533                             -0.226439   \n",
      "8                    0.032759                              0.049819   \n",
      "9                   -0.003786                             -0.067123   \n",
      "\n",
      "   onehotencoder__drive_fwd  onehotencoder__drive_rwd  \n",
      "0                 -0.067438                  0.003559  \n",
      "1                 -0.350797                  0.084569  \n",
      "2                  0.043336                 -0.165610  \n",
      "3                 -0.343051                 -0.166010  \n",
      "4                  0.191977                 -0.106180  \n",
      "5                 -0.182803                  0.474978  \n",
      "6                  0.128805                 -0.154326  \n",
      "7                 -0.041826                  0.402482  \n",
      "8                  0.092853                 -0.066798  \n",
      "9                 -0.266795                  0.069535  \n"
     ]
    }
   ],
   "source": [
    "#Identify the optimal number of components to use in PCA to be passed to a linear regression prediction model.\n",
    "params = {'pca__n_components': range(2, len(features_train.columns),1)}\n",
    "pipe_pca_grid = GridSearchCV(pipeline_pca, params)\n",
    "pipe_pca_grid.fit(features_train, price_train)\n",
    "\n",
    "#Predict price for training set and test set using PCA pipeline with GridSearchCV\n",
    "preds_pca_grid_train = pipe_pca_grid.predict(features_train)\n",
    "preds_pca_grid_test = pipe_pca_grid.predict(features_test)\n",
    "\n",
    "#Determine MSE of models\n",
    "print(pipe_pca_grid.best_params_)\n",
    "print(\"Training Set: \", str(mean_squared_error(preds_pca_grid_train, price_train)))\n",
    "print(\"Test Set: \", str(mean_squared_error(preds_pca_grid_test, price_test)))\n",
    "\n",
    "#Identify most influential components from PCA\n",
    "weights = pipe_pca_grid.best_estimator_.named_steps['pca'].components_\n",
    "features = pipe_pca_grid.best_estimator_.named_steps['transform'].get_feature_names_out()\n",
    "\n",
    "df_influence = pd.DataFrame(weights, columns=features)\n",
    "\n",
    "print(df_influence.abs().sum(axis=0).nlargest(10))\n",
    "\n",
    "print(df_influence[list(df_influence.abs().sum(axis=0).nlargest(10).index)])"
   ]
  },
  {
   "cell_type": "markdown",
   "metadata": {},
   "source": [
    "I used GridSearchCV to identify the optimal number of components to use in PCA. My interpretation of the results are that the most popular cars are:\n",
    "- Old cars with high odometer readings. It is likely that these customers are looking to use these cars for parts or to restore. It would be interesting to see if this holds for specific manufacturers or types of cars, like muscle cars that are popular for restoration projects.\n",
    "- Larger cars, mainly NOT sedans, with 4 wheel drive, specifically NOT forward wheel drive, that have low odometer readings. This makes sense for customers who want something sturdy and that has sustained less wear-and-tear for rougher use, like off-roading, contractor work, farm work, etc.\n",
    "- SUVs in good condition but have had some use. I hypothesize the odometer reading is a trade-off that brings the price down to an agreeable level for customers who otherwise want an economical good-looking SUV. A subset of this category includes small, newer, SUVs with 4-wheel drive.\n",
    "- Another category of popular cars are small, 6-cylinder cars with rear-wheel drive. This could correspond to sports cars or other small but powerful cars.\n",
    "\n",
    "A sort of anomaly that appears is that white cars are also popular. This requires more research to contextualize, but some initial hypotheses are: 1) neutral colored cars tend to be cheaper and easier to find than other colors, 2) white cars don't heat up in the summer as quickly as black cars, so there's some utility in the paint choice, 3) white cars may be easier to paint over and customize. Each of these hypotheses exist independent of car type, so it's possible that white cars constitute their own category.\n",
    "  "
   ]
  },
  {
   "cell_type": "code",
   "execution_count": null,
   "metadata": {},
   "outputs": [],
   "source": []
  },
  {
   "cell_type": "markdown",
   "metadata": {},
   "source": [
    "### Deployment\n",
    "\n",
    "Now that we've settled on our models and findings, it is time to deliver the information to the client.  You should organize your work as a basic report that details your primary findings.  Keep in mind that your audience is a group of used car dealers interested in fine-tuning their inventory."
   ]
  },
  {
   "cell_type": "markdown",
   "metadata": {},
   "source": [
    "# Summary"
   ]
  },
  {
   "cell_type": "markdown",
   "metadata": {},
   "source": [
    "In general, the following categories of cars seem to be popular with customers:\n",
    "- old cars on their last legs, likely to be used for parts or restoration\n",
    "- large cars that are robust and reliable for off-roading or driving in areas with less road infrastructure. The less wear-and-tear on the car, the better.\n",
    "- SUVs. Customers are more willing to pay for well-maintained or newer SUVs and are ok if they have been moderately used.\n",
    "- Small, powerful cars, like sports cars.\n",
    "- White cars are also generally good to keep around.\n",
    "\n",
    "Chevrolet, Toyota, and Ford cars are predominant in this dataset. This should be taken into consideration when applying these findings."
   ]
  },
  {
   "cell_type": "code",
   "execution_count": 709,
   "metadata": {},
   "outputs": [],
   "source": [
    "import seaborn as sns\n",
    "import matplotlib.pyplot as plt"
   ]
  },
  {
   "cell_type": "code",
   "execution_count": 729,
   "metadata": {},
   "outputs": [
    {
     "data": {
      "image/png": "[encoded data removed]",
      "text/plain": [
       "<Figure size 1600x900 with 1 Axes>"
      ]
     },
     "metadata": {},
     "output_type": "display_data"
    }
   ],
   "source": [
    "#Visualize distribution of manufacturers in dataset\n",
    "plt.figure(figsize=(16,9))\n",
    "sns.countplot(df_vehicles, y='manufacturer', hue='manufacturer', stat='percent', \n",
    "              legend=False).set_title('Distribution of Manufacturers in Dataset')\n",
    "\n",
    "plt.show()"
   ]
  },
  {
   "cell_type": "code",
   "execution_count": null,
   "metadata": {},
   "outputs": [],
   "source": []
  },
  {
   "cell_type": "code",
   "execution_count": null,
   "metadata": {},
   "outputs": [],
   "source": []
  },
  {
   "cell_type": "code",
   "execution_count": null,
   "metadata": {},
   "outputs": [],
   "source": []
  }
 ],
 "metadata": {
  "kernelspec": {
   "display_name": "Python [conda env:data_explore]",
   "language": "python",
   "name": "conda-env-data_explore-py"
  },
  "language_info": {
   "codemirror_mode": {
    "name": "ipython",
    "version": 3
   },
   "file_extension": ".py",
   "mimetype": "text/x-python",
   "name": "python",
   "nbconvert_exporter": "python",
   "pygments_lexer": "ipython3",
   "version": "3.12.8"
  },
  "widgets": {
   "application/vnd.jupyter.widget-state+json": {
    "state": {},
    "version_major": 2,
    "version_minor": 0
   }
  }
 },
 "nbformat": 4,
 "nbformat_minor": 4
}
